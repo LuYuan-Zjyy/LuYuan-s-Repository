{
 "cells": [
  {
   "cell_type": "code",
   "execution_count": null,
   "metadata": {},
   "outputs": [],
   "source": [
    "print(f\"{chr(0x2605)}数据科学与工程导论{chr(0x2605)}\")"
   ]
  },
  {
   "cell_type": "code",
   "execution_count": null,
   "metadata": {},
   "outputs": [],
   "source": [
    "x=int(input(\"输入x：\"))\n",
    "y=int(input(\"输入y：\"))\n",
    "z=int(input(\"输入z：\"))\n",
    "t1=max(x,y,z)\n",
    "t2=min(x,y,z)\n",
    "t3=x+y+z-t1-t2\n",
    "print(t2,t3,t1)"
   ]
  },
  {
   "cell_type": "code",
   "execution_count": null,
   "metadata": {},
   "outputs": [],
   "source": [
    "w=int(input(\"输入w：\"))\n",
    "x=int(input(\"输入x：\"))\n",
    "y=int(input(\"输入y：\"))\n",
    "z=int(input(\"输入z：\"))\n",
    "t1=max(w,x,y,z)\n",
    "t2=min(w,x,y,z)\n",
    "t3=min(max(w,x),max(y,z))\n",
    "t4=w+x+y+z-t1-t2-t3\n",
    "\n",
    "if t3>t4:\n",
    "    t3,t4=t4,t3\n",
    "\n",
    "print(t1,t4,t3,t2)"
   ]
  },
  {
   "cell_type": "code",
   "execution_count": null,
   "metadata": {},
   "outputs": [],
   "source": [
    "for i in range(1,101):\n",
    "    if i%2==1:\n",
    "        print(i)\n",
    "    "
   ]
  },
  {
   "cell_type": "code",
   "execution_count": null,
   "metadata": {},
   "outputs": [],
   "source": [
    "sum=0\n",
    "for i in range(1, 101):\n",
    "    sum=sum+i\n",
    "print(sum)"
   ]
  },
  {
   "cell_type": "code",
   "execution_count": null,
   "metadata": {},
   "outputs": [],
   "source": [
    "L=[1,2,3,4,5]\n",
    "for i in range (len(L)-1,-1,-1):\n",
    "    print(L[i],end=' ')\n",
    "print() \n",
    "i=len(L)-1\n",
    "while i>=0:\n",
    "    print(L[i],end=' ')\n",
    "    i-=1"
   ]
  },
  {
   "cell_type": "code",
   "execution_count": null,
   "metadata": {},
   "outputs": [],
   "source": [
    "str=input()\n",
    "s=False\n",
    "for i in range(len(str)-1):\n",
    "    if str[i]==str[i+1]:\n",
    "        s=True\n",
    "        break\n",
    "if s:\n",
    "    print(\"Yes\")\n",
    "else:\n",
    "    print(\"No\")"
   ]
  },
  {
   "cell_type": "code",
   "execution_count": null,
   "metadata": {},
   "outputs": [],
   "source": [
    "str=input()\n",
    "for char in str:\n",
    "    if char==' ':\n",
    "        str=str.replace(char,'')\n",
    "print(str)"
   ]
  },
  {
   "cell_type": "code",
   "execution_count": null,
   "metadata": {},
   "outputs": [],
   "source": [
    "x=int(input(\"请输入x：\"))\n",
    "y1=1\n",
    "y2=0.0\n",
    "i=0\n",
    "while i<=100000:\n",
    "    y2=2*y1/3+x/(3*y1*y1)\n",
    "    y1=y2\n",
    "    i=i+1\n",
    "print(\"x的三次方根的值为：\",y2)"
   ]
  },
  {
   "cell_type": "code",
   "execution_count": null,
   "metadata": {},
   "outputs": [],
   "source": [
    "def jiecheng(n):\n",
    "    if n==1:\n",
    "        return 1\n",
    "    elif n==0:\n",
    "        return 1\n",
    "    else:\n",
    "        return jiecheng(n-1)*n\n",
    "\n",
    "x=int(input(\"请输入一个整数：\"))\n",
    "print(jiecheng(x))"
   ]
  }
 ],
 "metadata": {
  "language_info": {
   "name": "python"
  }
 },
 "nbformat": 4,
 "nbformat_minor": 2
}
