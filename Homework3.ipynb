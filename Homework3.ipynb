{
 "cells": [
  {
   "cell_type": "markdown",
   "metadata": {},
   "source": [
    "1.编写 Python程序,判断输入a是否为质数"
   ]
  },
  {
   "cell_type": "code",
   "execution_count": 18,
   "metadata": {},
   "outputs": [
    {
     "name": "stdout",
     "output_type": "stream",
     "text": [
      "2 是素数\n"
     ]
    }
   ],
   "source": [
    "a=int(input())\n",
    "bl=True\n",
    "if a<2:\n",
    "    print(a,\"不是素数\")\n",
    "else:\n",
    "    for i in range(2,a):\n",
    "        if a%i==0:\n",
    "            bl=False\n",
    "            break\n",
    "    if bl:\n",
    "        print(a,\"是素数\")\n",
    "    else:\n",
    "        print(a,\"不是素数\")\n"
   ]
  },
  {
   "cell_type": "markdown",
   "metadata": {},
   "source": [
    "2.用Python实现插入排序该算法，不允许直接调用插入排序函数，需要手动实现其逻辑过程。"
   ]
  },
  {
   "cell_type": "code",
   "execution_count": null,
   "metadata": {},
   "outputs": [],
   "source": [
    "def InsertSort(arr):\n",
    "    for i in range(1, len(arr)):\n",
    "        key= arr[i]\n",
    "        j=i-1\n",
    "        while j >= 0 and key < arr[j]:\n",
    "            arr[j+1]=arr[j]\n",
    "            j-=1\n",
    "        arr[j+1]=key\n",
    "    return arr"
   ]
  },
  {
   "cell_type": "markdown",
   "metadata": {},
   "source": [
    "3.用Python实现选择排序该算法，不允许直接调用插入排序函数，需要手动实现其逻辑过程。"
   ]
  },
  {
   "cell_type": "code",
   "execution_count": null,
   "metadata": {},
   "outputs": [],
   "source": [
    "def selectsort(arr):\n",
    "    n = len(arr)\n",
    "    for i in range(n):\n",
    "        min_idx = i\n",
    "        for j in range(i+1, n):\n",
    "            if arr[j] < arr[min_idx]:\n",
    "                min_idx = j\n",
    "        arr[i], arr[min_idx] = arr[min_idx], arr[i]\n",
    "    return arr"
   ]
  },
  {
   "cell_type": "markdown",
   "metadata": {},
   "source": [
    "4.用Python实现快速排序该算法，不允许直接调用插入排序函数，需要手动实现其逻辑过程。"
   ]
  },
  {
   "cell_type": "code",
   "execution_count": null,
   "metadata": {},
   "outputs": [],
   "source": [
    "def quicksort(arr):\n",
    "    if len(arr) <= 1:\n",
    "        return arr\n",
    "    else:\n",
    "        pivot = arr[0]\n",
    "        left = []\n",
    "        right = []\n",
    "        for i in range(1, len(arr)):\n",
    "            if arr[i] < pivot:\n",
    "                left.append(arr[i])\n",
    "            else:\n",
    "                right.append(arr[i])\n",
    "        return quicksort(left) + [pivot] + quicksort(right) "
   ]
  },
  {
   "cell_type": "markdown",
   "metadata": {},
   "source": [
    "5.使用 Python 随机生成三组长度递增的随机数列，长度分别为100、1000、10000，对生成的随机数组使用不同的排序算法，例如选择排序和归并排序，至少三种排序方法。对这些数列的数据排序，并分析不同排序算法在不同长度数列下的运行效果，例如运行时间等指标。"
   ]
  },
  {
   "cell_type": "code",
   "execution_count": 2,
   "metadata": {},
   "outputs": [
    {
     "name": "stdout",
     "output_type": "stream",
     "text": [
      "100个元素\n",
      "插入排序耗时：0.0\n",
      "选择排序耗时：0.0\n",
      "快速排序耗时：0.0\n",
      "-------------\n",
      "1000个元素\n",
      "插入排序耗时：0.07492184638977051\n",
      "选择排序耗时：0.07889723777770996\n",
      "快速排序耗时：0.0015604496002197266\n",
      "-------------\n",
      "10000个元素\n",
      "插入排序耗时：8.109764575958252\n",
      "选择排序耗时：9.704458713531494\n",
      "快速排序耗时：0.07038116455078125\n",
      "-------------\n"
     ]
    }
   ],
   "source": [
    "import numpy as np\n",
    "import random\n",
    "import time\n",
    "\n",
    "def InsertSort(arr):\n",
    "    for i in range(1, len(arr)):\n",
    "        key = arr[i]\n",
    "        j = i - 1\n",
    "        while j >= 0 and key < arr[j]:\n",
    "            arr[j + 1] = arr[j]\n",
    "            j -= 1\n",
    "        arr[j + 1] = key\n",
    "    return arr\n",
    "\n",
    "def selectsort(arr):\n",
    "    n = len(arr)\n",
    "    for i in range(n):\n",
    "        min_idx = i\n",
    "        for j in range(i+1, n):\n",
    "            if arr[j] < arr[min_idx]:\n",
    "                min_idx = j\n",
    "        arr[i], arr[min_idx] = arr[min_idx], arr[i]\n",
    "    return arr\n",
    "\n",
    "def quicksort(arr):\n",
    "    if len(arr) <= 1:\n",
    "        return arr\n",
    "    else:\n",
    "        pivot = arr[0]\n",
    "        left = []\n",
    "        right = []\n",
    "        for i in range(1, len(arr)):\n",
    "            if arr[i] < pivot:\n",
    "                left.append(arr[i])\n",
    "            else:\n",
    "                right.append(arr[i])\n",
    "        return quicksort(left) + [pivot] + quicksort(right)\n",
    "\n",
    "Sort_names=['插入排序', '选择排序', '快速排序']\n",
    "Times={}\n",
    "Amounts= 100, 1000, 10000\n",
    "\n",
    "for amount in Amounts:\n",
    "    for name in Sort_names:\n",
    "        arr_1 = np.random.randint(0, 100, amount).copy()  \n",
    "        start = time.time()\n",
    "        \n",
    "        if name == '插入排序':\n",
    "            InsertSort(arr_1)\n",
    "        elif name == '选择排序':\n",
    "            selectsort(arr_1)\n",
    "        elif name == '快速排序':\n",
    "            quicksort(arr_1)\n",
    "        \n",
    "        end = time.time()\n",
    "        Times[name] = end - start \n",
    "\n",
    "    print(f\"{amount}个元素\")\n",
    "    for name in Sort_names:\n",
    "        print(f\"{name}耗时：{Times[name]}\")\n",
    "    print(\"-------------\")\n",
    "\n",
    "\n",
    "\n",
    "\n"
   ]
  },
  {
   "cell_type": "markdown",
   "metadata": {},
   "source": [
    "6.使用python代码获取当前系统时间"
   ]
  },
  {
   "cell_type": "code",
   "execution_count": 59,
   "metadata": {},
   "outputs": [
    {
     "name": "stdout",
     "output_type": "stream",
     "text": [
      "当前系统时间: 2024-10-14 17:11:23.836675\n"
     ]
    }
   ],
   "source": [
    "import datetime\n",
    "current_time = datetime.datetime.now()\n",
    "print(\"当前系统时间:\", current_time)"
   ]
  },
  {
   "cell_type": "markdown",
   "metadata": {},
   "source": [
    "7.homework/data文件夹下的stuGrade.csv文件中包含5位同学的学号、语文成绩、数学成绩和英语成绩，请先用记事本打开该文件，查看文件内容，然后编写Python程序，读取该文件，并计算出各科的平均成绩（保留2位小数）。"
   ]
  },
  {
   "cell_type": "code",
   "execution_count": 15,
   "metadata": {},
   "outputs": [
    {
     "name": "stdout",
     "output_type": "stream",
     "text": [
      "   stuID  chinese  math  english\n",
      "0  10381       74    87       82\n",
      "1  10382       92    88       90\n",
      "2  10383       87    82       81\n",
      "3  10384       98    97       96\n",
      "4  10385       62    51       60\n",
      "语文平均分是： 82.6\n",
      "数学平均分是： 81.0\n",
      "英语平均分是： 81.8\n"
     ]
    }
   ],
   "source": [
    "import numpy as np\n",
    "import pandas as pd\n",
    "\n",
    "grades=pd.read_csv(r\"E:\\360Downloads\\DaSE\\数据科学与工程导论\\stuGrade.csv\")\n",
    "chinese=grades['chinese']\n",
    "math=grades['math']\n",
    "english=grades['english']\n",
    "print(grades)\n",
    "chinese_mean=np.mean(chinese)\n",
    "math_mean=np.mean(math)\n",
    "english_mean=np.mean(english)\n",
    "print(\"语文平均分是：\",chinese_mean)\n",
    "print(\"数学平均分是：\",math_mean)\n",
    "print(\"英语平均分是：\",english_mean)\n",
    "with open(r\"E:\\360Downloads\\DaSE\\数据科学与工程导论\\my.txt\", \"w\", encoding='utf-8') as f:\n",
    "    f.write(\"成绩数据:\\n\")\n",
    "    f.write(grades.to_string(index=False) + \"\\n\")\n",
    "    f.write(f\"语文平均分是：{chinese_mean}\\n\")\n",
    "    f.write(f\"数学平均分是：{math_mean}\\n\")\n",
    "    f.write(f\"英语平均分是：{english_mean}\\n\")"
   ]
  },
  {
   "cell_type": "markdown",
   "metadata": {},
   "source": [
    "8.请在第7题的代码继续编写Python程序，将以下内容写入my.txt文件中，一并上传到github中。"
   ]
  },
  {
   "cell_type": "code",
   "execution_count": 14,
   "metadata": {},
   "outputs": [
    {
     "name": "stdout",
     "output_type": "stream",
     "text": [
      "   stuID  chinese  math  english\n",
      "0  10381       74    87       82\n",
      "1  10382       92    88       90\n",
      "2  10383       87    82       81\n",
      "3  10384       98    97       96\n",
      "4  10385       62    51       60\n"
     ]
    },
    {
     "ename": "AttributeError",
     "evalue": "'numpy.float64' object has no attribute 'to_csv'",
     "output_type": "error",
     "traceback": [
      "\u001b[1;31m---------------------------------------------------------------------------\u001b[0m",
      "\u001b[1;31mAttributeError\u001b[0m                            Traceback (most recent call last)",
      "Cell \u001b[1;32mIn[14], line 14\u001b[0m\n\u001b[0;32m     11\u001b[0m english_mean\u001b[38;5;241m=\u001b[39mnp\u001b[38;5;241m.\u001b[39mmean(english)\n\u001b[0;32m     13\u001b[0m grades\u001b[38;5;241m.\u001b[39mto_csv(\u001b[38;5;124mr\u001b[39m\u001b[38;5;124m\"\u001b[39m\u001b[38;5;124mE:\u001b[39m\u001b[38;5;124m\\\u001b[39m\u001b[38;5;124m360Downloads\u001b[39m\u001b[38;5;124m\\\u001b[39m\u001b[38;5;124mDaSE\u001b[39m\u001b[38;5;124m\\\u001b[39m\u001b[38;5;124m数据科学与工程导论\u001b[39m\u001b[38;5;124m\\\u001b[39m\u001b[38;5;124mstuGrade_mean.csv\u001b[39m\u001b[38;5;124m\"\u001b[39m,index\u001b[38;5;241m=\u001b[39m\u001b[38;5;28;01mFalse\u001b[39;00m)\n\u001b[1;32m---> 14\u001b[0m \u001b[43mchinese_mean\u001b[49m\u001b[38;5;241;43m.\u001b[39;49m\u001b[43mto_csv\u001b[49m(\u001b[38;5;124mr\u001b[39m\u001b[38;5;124m\"\u001b[39m\u001b[38;5;124mE:\u001b[39m\u001b[38;5;124m\\\u001b[39m\u001b[38;5;124m360Downloads\u001b[39m\u001b[38;5;124m\\\u001b[39m\u001b[38;5;124mDaSE\u001b[39m\u001b[38;5;124m\\\u001b[39m\u001b[38;5;124m数据科学与工程导论\u001b[39m\u001b[38;5;124m\\\u001b[39m\u001b[38;5;124mchinese_mean.csv\u001b[39m\u001b[38;5;124m\"\u001b[39m,index\u001b[38;5;241m=\u001b[39m\u001b[38;5;28;01mFalse\u001b[39;00m)\n\u001b[0;32m     15\u001b[0m math_mean\u001b[38;5;241m.\u001b[39mto_csv(\u001b[38;5;124mr\u001b[39m\u001b[38;5;124m\"\u001b[39m\u001b[38;5;124mE:\u001b[39m\u001b[38;5;124m\\\u001b[39m\u001b[38;5;124m360Downloads\u001b[39m\u001b[38;5;124m\\\u001b[39m\u001b[38;5;124mDaSE\u001b[39m\u001b[38;5;124m\\\u001b[39m\u001b[38;5;124m数据科学与工程导论\u001b[39m\u001b[38;5;124m\\\u001b[39m\u001b[38;5;124mmath_mean.csv\u001b[39m\u001b[38;5;124m\"\u001b[39m,index\u001b[38;5;241m=\u001b[39m\u001b[38;5;28;01mFalse\u001b[39;00m)\n\u001b[0;32m     16\u001b[0m english_mean\u001b[38;5;241m.\u001b[39mto_csv(\u001b[38;5;124mr\u001b[39m\u001b[38;5;124m\"\u001b[39m\u001b[38;5;124mE:\u001b[39m\u001b[38;5;124m\\\u001b[39m\u001b[38;5;124m360Downloads\u001b[39m\u001b[38;5;124m\\\u001b[39m\u001b[38;5;124mDaSE\u001b[39m\u001b[38;5;124m\\\u001b[39m\u001b[38;5;124m数据科学与工程导论\u001b[39m\u001b[38;5;124m\\\u001b[39m\u001b[38;5;124menglish_mean.csv\u001b[39m\u001b[38;5;124m\"\u001b[39m,index\u001b[38;5;241m=\u001b[39m\u001b[38;5;28;01mFalse\u001b[39;00m)\n",
      "\u001b[1;31mAttributeError\u001b[0m: 'numpy.float64' object has no attribute 'to_csv'"
     ]
    }
   ],
   "source": []
  }
 ],
 "metadata": {
  "kernelspec": {
   "display_name": "Python 3",
   "language": "python",
   "name": "python3"
  },
  "language_info": {
   "codemirror_mode": {
    "name": "ipython",
    "version": 3
   },
   "file_extension": ".py",
   "mimetype": "text/x-python",
   "name": "python",
   "nbconvert_exporter": "python",
   "pygments_lexer": "ipython3",
   "version": "3.12.7"
  }
 },
 "nbformat": 4,
 "nbformat_minor": 2
}
